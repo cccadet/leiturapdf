{
 "cells": [
  {
   "cell_type": "code",
   "execution_count": 1,
   "metadata": {},
   "outputs": [],
   "source": [
    "#install ImageMagick pay attention for versions (x86_x64)\n",
    "# ftp://ftp.imagemagick.org/pub/ImageMagick/binaries/ \n",
    "# http://docs.wand-py.org/en/latest/guide/install.html#install-imagemagick-on-windows\n",
    "\n",
    "#install ghostscript\n",
    "\n",
    "# https://github.com/tesseract-ocr/tesseract/wiki/Downloads\n",
    "# https://github.com/tesseract-ocr/tesseract/wiki/Data-Files\n",
    "# https://www.quora.com/How-do-I-install-Tesseract-OCR-on-windows-10"
   ]
  },
  {
   "cell_type": "code",
   "execution_count": 10,
   "metadata": {},
   "outputs": [],
   "source": [
    "#from __future__ import print_function\n",
    "from wand.image import Image\n",
    "\n",
    "import pytesseract as ocr\n",
    "ocr.pytesseract.tesseract_cmd = r'C:\\Program Files\\Tesseract4-OCR\\tesseract.exe'\n",
    "import numpy as np\n",
    "import cv2\n",
    "\n",
    "import PIL\n",
    "\n",
    "import os\n",
    "\n",
    "import pandas as pd"
   ]
  },
  {
   "cell_type": "code",
   "execution_count": 8,
   "metadata": {},
   "outputs": [],
   "source": [
    "def convert_image_to_text(temp_file):           \n",
    "    # tipando a leitura para os canais de ordem RGB\n",
    "    #imagem = Image.open('png/teste-1.png').convert('RGB')\n",
    "    imagem = PIL.Image.open(temp_file).convert('RGB')\n",
    "\n",
    "    # convertendo em um array editável de numpy[x, y, CANALS]\n",
    "    npimagem = np.asarray(imagem).astype(np.uint8)  \n",
    "\n",
    "    # diminuição dos ruidos antes da binarização\n",
    "    npimagem[:, :, 0] = 0 # zerando o canal R (RED)\n",
    "    npimagem[:, :, 2] = 0 # zerando o canal B (BLUE)\n",
    "\n",
    "    # atribuição em escala de cinza\n",
    "    im = cv2.cvtColor(npimagem, cv2.COLOR_RGB2GRAY) \n",
    "\n",
    "    # aplicação da truncagem binária para a intensidade\n",
    "    # pixels de intensidade de cor abaixo de 127 serão convertidos para 0 (PRETO)\n",
    "    # pixels de intensidade de cor acima de 127 serão convertidos para 255 (BRANCO)\n",
    "    # A atrubição do THRESH_OTSU incrementa uma análise inteligente dos nivels de truncagem\n",
    "    ret, thresh = cv2.threshold(im, 127, 255, cv2.THRESH_BINARY | cv2.THRESH_OTSU) \n",
    "\n",
    "    # reconvertendo o retorno do threshold em um objeto do tipo PIL.Image\n",
    "    binimagem = PIL.Image.fromarray(thresh) \n",
    "\n",
    "    # chamada ao tesseract OCR por meio de seu wrapper\n",
    "    phrase = ocr.image_to_string(binimagem, lang='por')\n",
    "\n",
    "    # impressão do resultado\n",
    "    #print(phrase) \n",
    "    return phrase"
   ]
  },
  {
   "cell_type": "code",
   "execution_count": 3,
   "metadata": {},
   "outputs": [],
   "source": [
    "directory = 'pdf/'\n",
    "       \n",
    "for file in os.listdir(directory):\n",
    "        filename = os.fsdecode(file)\n",
    "        if filename.endswith(\".pdf\"):    \n",
    "            temp_file = os.path.join(directory, filename)\n",
    "            with Image(filename=temp_file, resolution = 720) as img:\n",
    "                pages = len(img.sequence)\n",
    "                image = Image(\n",
    "                    width=img.width,\n",
    "                    height=img.height * pages\n",
    "                )\n",
    "\n",
    "                for i in range(pages):\n",
    "                    image.composite(\n",
    "                        img.sequence[i],\n",
    "                        top=img.height * i,\n",
    "                        left=0\n",
    "                    )\n",
    "                filename += '.png'\n",
    "                with image.convert('png') as converted:\n",
    "                    converted.save(filename='png/'+filename)\n",
    "            #break"
   ]
  },
  {
   "cell_type": "code",
   "execution_count": 58,
   "metadata": {},
   "outputs": [],
   "source": [
    "directory = 'png/'\n",
    "\n",
    "df_conv = pd.DataFrame(columns=['file','text'])\n",
    "\n",
    "for file in os.listdir(directory):\n",
    "    \n",
    "    filename = os.fsdecode(file)\n",
    "    if filename.endswith(\".png\"):    \n",
    "        temp_file = os.path.join(directory, filename)\n",
    "        text = convert_image_to_text(temp_file)\n",
    "        d = {'file': [temp_file], 'text': [text]}\n",
    "        df = pd.DataFrame(data=d)\n",
    "        frames = [df_conv, df]\n",
    "        df_conv = pd.concat(frames)"
   ]
  },
  {
   "cell_type": "code",
   "execution_count": 59,
   "metadata": {},
   "outputs": [
    {
     "data": {
      "text/html": [
       "<div>\n",
       "<style scoped>\n",
       "    .dataframe tbody tr th:only-of-type {\n",
       "        vertical-align: middle;\n",
       "    }\n",
       "\n",
       "    .dataframe tbody tr th {\n",
       "        vertical-align: top;\n",
       "    }\n",
       "\n",
       "    .dataframe thead th {\n",
       "        text-align: right;\n",
       "    }\n",
       "</style>\n",
       "<table border=\"1\" class=\"dataframe\">\n",
       "  <thead>\n",
       "    <tr style=\"text-align: right;\">\n",
       "      <th></th>\n",
       "      <th>file</th>\n",
       "      <th>text</th>\n",
       "    </tr>\n",
       "  </thead>\n",
       "  <tbody>\n",
       "    <tr>\n",
       "      <th>0</th>\n",
       "      <td>png/teste.pdf.png</td>\n",
       "      <td>a ANS - Informações Relevantes - Patologia\\n\\n...</td>\n",
       "    </tr>\n",
       "    <tr>\n",
       "      <th>0</th>\n",
       "      <td>png/teste2.pdf.png</td>\n",
       "      <td>: CINTIA APARECIDA DE SOUZA\\nNTE: Dr.(a) Gusta...</td>\n",
       "    </tr>\n",
       "  </tbody>\n",
       "</table>\n",
       "</div>"
      ],
      "text/plain": [
       "                 file                                               text\n",
       "0   png/teste.pdf.png  a ANS - Informações Relevantes - Patologia\\n\\n...\n",
       "0  png/teste2.pdf.png  : CINTIA APARECIDA DE SOUZA\\nNTE: Dr.(a) Gusta..."
      ]
     },
     "execution_count": 59,
     "metadata": {},
     "output_type": "execute_result"
    }
   ],
   "source": [
    "df_conv"
   ]
  },
  {
   "cell_type": "code",
   "execution_count": null,
   "metadata": {},
   "outputs": [],
   "source": []
  },
  {
   "cell_type": "code",
   "execution_count": null,
   "metadata": {},
   "outputs": [],
   "source": []
  },
  {
   "cell_type": "code",
   "execution_count": null,
   "metadata": {},
   "outputs": [],
   "source": []
  }
 ],
 "metadata": {
  "kernelspec": {
   "display_name": "Python 3",
   "language": "python",
   "name": "python3"
  },
  "language_info": {
   "codemirror_mode": {
    "name": "ipython",
    "version": 3
   },
   "file_extension": ".py",
   "mimetype": "text/x-python",
   "name": "python",
   "nbconvert_exporter": "python",
   "pygments_lexer": "ipython3",
   "version": "3.6.6"
  }
 },
 "nbformat": 4,
 "nbformat_minor": 2
}

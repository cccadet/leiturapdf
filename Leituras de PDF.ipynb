{
 "cells": [
  {
   "cell_type": "code",
   "execution_count": 4,
   "metadata": {},
   "outputs": [
    {
     "name": "stdout",
     "output_type": "stream",
     "text": [
      "pages =  2\n"
     ]
    }
   ],
   "source": [
    "#install ImageMagick pay attention for versions (x86_x64)\n",
    "# ftp://ftp.imagemagick.org/pub/ImageMagick/binaries/ \n",
    "# http://docs.wand-py.org/en/latest/guide/install.html#install-imagemagick-on-windows\n",
    "\n",
    "#install ghostscript"
   ]
  },
  {
   "cell_type": "code",
   "execution_count": null,
   "metadata": {},
   "outputs": [],
   "source": [
    "from __future__ import print_function\n",
    "from wand.image import Image"
   ]
  },
  {
   "cell_type": "code",
   "execution_count": null,
   "metadata": {},
   "outputs": [],
   "source": [
    "\n",
    " \n",
    "with Image(filename='teste.pdf') as img:\n",
    "    print('pages = ', len(img.sequence))\n",
    " \n",
    "    with img.convert('png') as converted:\n",
    "        converted.save(filename='png/teste.png')"
   ]
  },
  {
   "cell_type": "code",
   "execution_count": null,
   "metadata": {},
   "outputs": [],
   "source": []
  }
 ],
 "metadata": {
  "kernelspec": {
   "display_name": "Python 3",
   "language": "python",
   "name": "python3"
  },
  "language_info": {
   "codemirror_mode": {
    "name": "ipython",
    "version": 3
   },
   "file_extension": ".py",
   "mimetype": "text/x-python",
   "name": "python",
   "nbconvert_exporter": "python",
   "pygments_lexer": "ipython3",
   "version": "3.6.6"
  }
 },
 "nbformat": 4,
 "nbformat_minor": 2
}
